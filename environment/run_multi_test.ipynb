{
 "cells": [
  {
   "cell_type": "code",
   "execution_count": 3,
   "metadata": {},
   "outputs": [],
   "source": [
    "\"\"\"\n",
    "Runs an example with 2 agents in the pvpbox env\n",
    "Adapted from https://github.com/minerllabs/minerl/blob/dev/tests/multiagent_test.py\n",
    "\"\"\"\n",
    "\n",
    "__author__ = \"Sander Schulhoff\"\n",
    "__email__ = \"sanderschulhoff@gmail.com\"\n",
    "import sys\n",
    "sys.path.append(\"..\")\n",
    "# from minerl.env.malmo import InstanceManager\n",
    "import argparse\n",
    "from pvpbox_specs import PvpBoxNoQuit\n",
    "from wrappers import OneVersusOneWrapper\n",
    "import gym\n",
    "\n",
    "\n",
    "agent_actions = {\"attack\":1, \"left\":1, \"right\":1}\n",
    "\n",
    "env_spec = PvpBoxNoQuit(agent_count=2)\n",
    "\n",
    "#     # IF you want to use existing instances use this!\n",
    "#     # instances = [\n",
    "#     #     InstanceManager.add_existing_instance(9001),\n",
    "#     #     InstanceManager.add_existing_instance(9002)]\n",
    "instances = []\n",
    "agent_actions = [(\"attack\", 1), (\"left\", 1), (\"right\", 1), (\"camera\", [0,15]), (\"camera\", [0,-15])]\n",
    "\n",
    "env = OneVersusOneWrapper(env_spec.make(instances=instances), agent_actions)"
   ]
  },
  {
   "cell_type": "code",
   "execution_count": 8,
   "metadata": {},
   "outputs": [],
   "source": [
    "obs = env.reset()"
   ]
  },
  {
   "cell_type": "code",
   "execution_count": 7,
   "metadata": {},
   "outputs": [
    {
     "data": {
      "text/plain": [
       "<OneVersusOneWrapper<_MultiAgentEnv instance>>"
      ]
     },
     "execution_count": 7,
     "metadata": {},
     "output_type": "execute_result"
    }
   ],
   "source": [
    "env"
   ]
  },
  {
   "cell_type": "code",
   "execution_count": 7,
   "metadata": {},
   "outputs": [],
   "source": [
    "import random\n",
    "# make the agents move and stuff\n",
    "# iterate desired episodes\n",
    "# for r in range(10):\n",
    "#     env.reset()\n",
    "steps = 0\n",
    "\n",
    "done = False\n",
    "while not done:\n",
    "    steps += 1\n",
    "    env.render()\n",
    "    actions = {\n",
    "        \"agent_0\": random.choice(range(0,5)),\n",
    "        \"agent_1\": random.choice(range(0,5))\n",
    "    }\n",
    "    # actions = env.action_space.sample()\n",
    "\n",
    "    # print(str(steps) + \" actions: \" + str(actions))\n",
    "\n",
    "    obs, reward, done, info = env.step(actions)"
   ]
  }
 ],
 "metadata": {
  "interpreter": {
   "hash": "4273b4bab5e5449faae8d739806195113c0ae50dae388bc0556285a0a4600145"
  },
  "kernelspec": {
   "display_name": "Python 3.9.7 64-bit ('gladiator': conda)",
   "language": "python",
   "name": "python3"
  },
  "language_info": {
   "codemirror_mode": {
    "name": "ipython",
    "version": 3
   },
   "file_extension": ".py",
   "mimetype": "text/x-python",
   "name": "python",
   "nbconvert_exporter": "python",
   "pygments_lexer": "ipython3",
   "version": "3.8.12"
  },
  "orig_nbformat": 4
 },
 "nbformat": 4,
 "nbformat_minor": 2
}
