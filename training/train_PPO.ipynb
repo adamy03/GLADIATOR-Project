{
 "cells": [
  {
   "cell_type": "code",
   "execution_count": 1,
   "metadata": {},
   "outputs": [
    {
     "name": "stderr",
     "output_type": "stream",
     "text": [
      "/opt/anaconda3/envs/gladiator/lib/python3.9/site-packages/gym/logger.py:34: UserWarning: \u001b[33mWARN: Box bound precision lowered by casting to float32\u001b[0m\n",
      "  warnings.warn(colorize(\"%s: %s\" % (\"WARN\", msg % args), \"yellow\"))\n"
     ]
    }
   ],
   "source": [
    "import sys\n",
    "sys.path.append(\"..\")\n",
    "from env.pvpbox_specs import PvpBox\n",
    "from model import PPO_net\n",
    "import torch\n",
    "\n",
    "__author__ = \"Sander Schulhoff\"\n",
    "__email__ = \"sanderschulhoff@gmail.com\"\n",
    "\n",
    "device = \"cuda\" if torch.cuda.is_available() else \"cpu\"\n",
    "\n",
    "EPISODES = 10\n",
    "# episodes per batch\n",
    "BATCH_SIZE = 4\n",
    "\n",
    "net = PPO_net()\n",
    "\n",
    "class PvpBoxMultiAgent(PvpBox):\n",
    "    def create_server_quit_producers(self):\n",
    "        return []\n",
    "\n",
    "# Two agents in the same world!\n",
    "env_spec = PvpBoxMultiAgent(agent_count=2)\n",
    "env = env_spec.make(instances=[])\n",
    "\n",
    "\n",
    "\n",
    "\n",
    "# for episode in range(EPISODES):\n",
    "#     # dont track rewards as the environment doesnt return any\n",
    "#     # we calculate rewards based on lifestats\n",
    "#     states = actions = lifestats = []\n",
    "#     obs = env.reset()\n",
    "\n",
    "\n",
    "#     if "
   ]
  }
 ],
 "metadata": {
  "interpreter": {
   "hash": "4273b4bab5e5449faae8d739806195113c0ae50dae388bc0556285a0a4600145"
  },
  "kernelspec": {
   "display_name": "Python 3.9.7 64-bit ('gladiator': conda)",
   "language": "python",
   "name": "python3"
  },
  "language_info": {
   "codemirror_mode": {
    "name": "ipython",
    "version": 3
   },
   "file_extension": ".py",
   "mimetype": "text/x-python",
   "name": "python",
   "nbconvert_exporter": "python",
   "pygments_lexer": "ipython3",
   "version": "3.9.7"
  },
  "orig_nbformat": 4
 },
 "nbformat": 4,
 "nbformat_minor": 2
}
