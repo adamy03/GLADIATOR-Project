{
 "cells": [
  {
   "cell_type": "code",
   "execution_count": 1,
   "metadata": {},
   "outputs": [
    {
     "name": "stderr",
     "output_type": "stream",
     "text": [
      "/opt/anaconda3/envs/gladiator/lib/python3.9/site-packages/gym/logger.py:34: UserWarning: \u001b[33mWARN: Box bound precision lowered by casting to float32\u001b[0m\n",
      "  warnings.warn(colorize(\"%s: %s\" % (\"WARN\", msg % args), \"yellow\"))\n"
     ]
    }
   ],
   "source": [
    "import sys\n",
    "sys.path.append(\"..\")\n",
    "from env.pvpbox_specs import PvpBox\n",
    "from env.OneVersusOneWrapper import OneVersusOneWrapper\n",
    "from model import PPO_net\n",
    "import torch\n",
    "from minerl.env.malmo import InstanceManager\n",
    "import importlib\n",
    "# importlib.reload(env.pvpbox_specs)\n",
    "# rm -r $HOME/.gradle/caches/\n",
    "\n",
    "\n",
    "__author__ = \"Sander Schulhoff\"\n",
    "__email__ = \"sanderschulhoff@gmail.com\"\n",
    "\n",
    "device = \"cuda\" if torch.cuda.is_available() else \"cpu\"\n",
    "\n",
    "EPISODES = 10\n",
    "# episodes per batch\n",
    "BATCH_SIZE = 4\n",
    "\n",
    "net = PPO_net()\n",
    "\n",
    "class PvpBoxMultiAgent(PvpBox):\n",
    "    def create_server_quit_producers(self):\n",
    "        return []\n",
    "\n",
    "# Two agents in the same world!\n",
    "env_spec = PvpBoxMultiAgent(agent_count=2)\n",
    "instances = [\n",
    "        # InstanceManager.add_existing_instance(12019),\n",
    "        # InstanceManager.add_existing_instance(12020)\n",
    "        ]\n",
    "env = env_spec.make(instances=instances)"
   ]
  },
  {
   "cell_type": "code",
   "execution_count": 3,
   "metadata": {},
   "outputs": [
    {
     "data": {
      "text/plain": [
       "[Malmo[None:0147f9, proc=2837, addr=localhost:12019, locked=True],\n",
       " Malmo[None:11882c, proc=2838, addr=localhost:12020, locked=True]]"
      ]
     },
     "execution_count": 3,
     "metadata": {},
     "output_type": "execute_result"
    }
   ],
   "source": [
    "InstanceManager._instance_pool"
   ]
  },
  {
   "cell_type": "code",
   "execution_count": 2,
   "metadata": {},
   "outputs": [
    {
     "name": "stderr",
     "output_type": "stream",
     "text": [
      "/opt/anaconda3/envs/gladiator/lib/python3.9/site-packages/gym/logger.py:34: UserWarning: \u001b[33mWARN: Box bound precision lowered by casting to float32\u001b[0m\n",
      "  warnings.warn(colorize(\"%s: %s\" % (\"WARN\", msg % args), \"yellow\"))\n",
      "/opt/anaconda3/envs/gladiator/lib/python3.9/site-packages/gym/logger.py:34: UserWarning: \u001b[33mWARN: Box bound precision lowered by casting to float32\u001b[0m\n",
      "  warnings.warn(colorize(\"%s: %s\" % (\"WARN\", msg % args), \"yellow\"))\n",
      "/opt/anaconda3/envs/gladiator/lib/python3.9/runpy.py:127: RuntimeWarning: 'minerl.utils.process_watcher' found in sys.modules after import of package 'minerl.utils', but prior to execution of 'minerl.utils.process_watcher'; this may result in unpredictable behaviour\n",
      "  warn(RuntimeWarning(msg))\n",
      "/opt/anaconda3/envs/gladiator/lib/python3.9/runpy.py:127: RuntimeWarning: 'minerl.utils.process_watcher' found in sys.modules after import of package 'minerl.utils', but prior to execution of 'minerl.utils.process_watcher'; this may result in unpredictable behaviour\n",
      "  warn(RuntimeWarning(msg))\n",
      "MineRL agent is public, connect on port 50092 with Minecraft 1.11\n"
     ]
    }
   ],
   "source": [
    "obs = env.reset()"
   ]
  },
  {
   "cell_type": "code",
   "execution_count": 5,
   "metadata": {},
   "outputs": [
    {
     "name": "stderr",
     "output_type": "stream",
     "text": [
      "Failed to take a step (error a bytes-like object is required, not 'NoneType'). Terminating episode and sending random observation, be aware. To account for this failure case in your code check to see if `'error' in info` where info is the info dictionary returned by the step function.\n"
     ]
    },
    {
     "name": "stdout",
     "output_type": "stream",
     "text": [
      "{'agent_0': {'error': 'Connection timed out!'}, 'agent_1': {'error': 'Connection timed out!'}}\n",
      "True\n"
     ]
    }
   ],
   "source": [
    "a0_health = 20\n",
    "a1_health = 20\n",
    "act = env.action_space.noop()\n",
    "# act['agent_1'][\"attack\"] = 1\n",
    "# act['agent_0'][\"attack\"] = 1\n",
    "# for i in range(100):\n",
    "# while not done:\n",
    "obs, reward, done, info = env.step(act)\n",
    "env.render()\n",
    "\n",
    "print(info)\n",
    "print(done)\n",
    "# print(obs[\"agent_0\"][\"life_stats\"])\n",
    "# for i in obs['agent_0']:\n",
    "#     print(i)\n",
    "# if \"life\" in obs[\"agent_0\"][\"life_stats\"]:\n",
    "#     print(obs[\"agent_0\"][\"life_stats\"][\"life\"])"
   ]
  },
  {
   "cell_type": "code",
   "execution_count": 11,
   "metadata": {},
   "outputs": [
    {
     "data": {
      "text/plain": [
       "{'agent_0': {'error': 'Connection timed out!'},\n",
       " 'agent_1': {'error': 'Connection timed out!'}}"
      ]
     },
     "execution_count": 11,
     "metadata": {},
     "output_type": "execute_result"
    }
   ],
   "source": [
    "# a0_health = 20\n",
    "# a1_health = 20\n",
    "# a0_new_health = obs[\"agent_0\"][\"life_stats\"][\"life\"]\n",
    "# a1_new_health = obs[\"agent_1\"][\"life_stats\"][\"life\"]\n",
    "info"
   ]
  },
  {
   "cell_type": "code",
   "execution_count": 13,
   "metadata": {},
   "outputs": [
    {
     "name": "stdout",
     "output_type": "stream",
     "text": [
      "air\n",
      "food\n",
      "is_alive\n",
      "life\n",
      "saturation\n",
      "score\n",
      "xp\n"
     ]
    }
   ],
   "source": [
    "for i in obs[\"agent_0\"][\"agent_0\"][\"life_stats\"]:\n",
    "    print(i)"
   ]
  },
  {
   "cell_type": "code",
   "execution_count": 17,
   "metadata": {},
   "outputs": [
    {
     "data": {
      "text/plain": [
       "array([[[0.30196078, 0.2       , 0.1372549 ],\n",
       "        [0.30196078, 0.2       , 0.1372549 ],\n",
       "        [0.30196078, 0.2       , 0.1372549 ],\n",
       "        ...,\n",
       "        [0.30196078, 0.2       , 0.1372549 ],\n",
       "        [0.30196078, 0.2       , 0.1372549 ],\n",
       "        [0.30196078, 0.2       , 0.1372549 ]],\n",
       "\n",
       "       [[0.30196078, 0.2       , 0.1372549 ],\n",
       "        [0.30196078, 0.2       , 0.1372549 ],\n",
       "        [0.30196078, 0.2       , 0.1372549 ],\n",
       "        ...,\n",
       "        [0.30196078, 0.2       , 0.1372549 ],\n",
       "        [0.30196078, 0.2       , 0.1372549 ],\n",
       "        [0.30196078, 0.2       , 0.1372549 ]],\n",
       "\n",
       "       [[0.30196078, 0.2       , 0.1372549 ],\n",
       "        [0.30196078, 0.2       , 0.1372549 ],\n",
       "        [0.30196078, 0.2       , 0.1372549 ],\n",
       "        ...,\n",
       "        [0.30196078, 0.2       , 0.1372549 ],\n",
       "        [0.30196078, 0.2       , 0.1372549 ],\n",
       "        [0.30196078, 0.2       , 0.1372549 ]],\n",
       "\n",
       "       ...,\n",
       "\n",
       "       [[0.30196078, 0.2       , 0.1372549 ],\n",
       "        [0.30196078, 0.2       , 0.1372549 ],\n",
       "        [0.30196078, 0.2       , 0.1372549 ],\n",
       "        ...,\n",
       "        [0.30196078, 0.2       , 0.1372549 ],\n",
       "        [0.30196078, 0.2       , 0.1372549 ],\n",
       "        [0.30196078, 0.2       , 0.1372549 ]],\n",
       "\n",
       "       [[0.30196078, 0.2       , 0.1372549 ],\n",
       "        [0.30196078, 0.2       , 0.1372549 ],\n",
       "        [0.30196078, 0.2       , 0.1372549 ],\n",
       "        ...,\n",
       "        [0.30196078, 0.2       , 0.1372549 ],\n",
       "        [0.30196078, 0.2       , 0.1372549 ],\n",
       "        [0.30196078, 0.2       , 0.1372549 ]],\n",
       "\n",
       "       [[0.30196078, 0.2       , 0.1372549 ],\n",
       "        [0.30196078, 0.2       , 0.1372549 ],\n",
       "        [0.30196078, 0.2       , 0.1372549 ],\n",
       "        ...,\n",
       "        [0.30196078, 0.2       , 0.1372549 ],\n",
       "        [0.30196078, 0.2       , 0.1372549 ],\n",
       "        [0.30196078, 0.2       , 0.1372549 ]]])"
      ]
     },
     "execution_count": 17,
     "metadata": {},
     "output_type": "execute_result"
    }
   ],
   "source": [
    "obs[\"agent_0\"]"
   ]
  }
 ],
 "metadata": {
  "interpreter": {
   "hash": "4273b4bab5e5449faae8d739806195113c0ae50dae388bc0556285a0a4600145"
  },
  "kernelspec": {
   "display_name": "Python 3.9.7 64-bit ('gladiator': conda)",
   "language": "python",
   "name": "python3"
  },
  "language_info": {
   "codemirror_mode": {
    "name": "ipython",
    "version": 3
   },
   "file_extension": ".py",
   "mimetype": "text/x-python",
   "name": "python",
   "nbconvert_exporter": "python",
   "pygments_lexer": "ipython3",
   "version": "3.9.7"
  },
  "orig_nbformat": 4
 },
 "nbformat": 4,
 "nbformat_minor": 2
}
