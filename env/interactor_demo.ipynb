{
 "cells": [
  {
   "cell_type": "code",
   "execution_count": null,
   "metadata": {},
   "outputs": [],
   "source": [
    "import minerl\n",
    "import gym\n",
    "import pvpbox_specs\n",
    "\n",
    "env = gym.make('PvpBox-v0')\n",
    "\n",
    "env.make_interactive(port=6666, realtime=True)\n",
    "obs  = env.reset()\n"
   ]
  },
  {
   "cell_type": "code",
   "execution_count": null,
   "metadata": {},
   "outputs": [],
   "source": [
    "\n",
    "# python -m minerl.interactor 6666 # replace with the port above.\n",
    "\n",
    "\n",
    "done = False\n",
    "net_reward = 0\n",
    "\n",
    "while not done:\n",
    "    action = env.action_space.noop()\n",
    "\n",
    "    #action['camera'] = [0, 0.03*obs[\"compass\"][\"angle\"]]\n",
    "    action['back'] = 0\n",
    "    action['forward'] = 1\n",
    "    action['jump'] = 1\n",
    "    action['attack'] = 1\n",
    "\n",
    "    obs, reward, done, info = env.step(\n",
    "        action)\n",
    "\n",
    "    net_reward += reward\n",
    "    print(\"Total reward: \", net_reward)"
   ]
  }
 ],
 "metadata": {
  "interpreter": {
   "hash": "6595d6ea935099f931f913b3168c6300517071de3f8e1fb7d9dcac989b5f2bed"
  },
  "kernelspec": {
   "display_name": "Python 3.9.0 64-bit ('GLADIATOR_interactor': conda)",
   "language": "python",
   "name": "python3"
  },
  "language_info": {
   "codemirror_mode": {
    "name": "ipython",
    "version": 3
   },
   "file_extension": ".py",
   "mimetype": "text/x-python",
   "name": "python",
   "nbconvert_exporter": "python",
   "pygments_lexer": "ipython3",
   "version": "3.9.0"
  },
  "orig_nbformat": 4
 },
 "nbformat": 4,
 "nbformat_minor": 2
}
